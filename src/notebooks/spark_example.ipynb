{
 "cells": [
  {
   "cell_type": "markdown",
   "id": "45ebd170",
   "metadata": {},
   "source": [
    "# Imports"
   ]
  },
  {
   "cell_type": "code",
   "execution_count": null,
   "id": "34f6cfd3",
   "metadata": {},
   "outputs": [],
   "source": [
    "import pyspark.sql.functions as func\n",
    "from core.config import conf\n",
    "from core.utils.spark import spark, sqlContext"
   ]
  },
  {
   "cell_type": "code",
   "execution_count": null,
   "id": "085ea54b",
   "metadata": {},
   "outputs": [],
   "source": [
    "conf.sql_login.username"
   ]
  },
  {
   "cell_type": "code",
   "execution_count": null,
   "id": "ff15c614",
   "metadata": {},
   "outputs": [],
   "source": [
    "spark"
   ]
  },
  {
   "cell_type": "code",
   "execution_count": null,
   "id": "ca390457",
   "metadata": {},
   "outputs": [],
   "source": [
    "# read from file\n",
    "df = spark.read.csv(\"../../data/test.csv.dummy\", header=True)\n",
    "df.createOrReplaceTempView(\"table_df\")\n",
    "sqlContext.cacheTable(\"table_df\")\n",
    "df.count()"
   ]
  },
  {
   "cell_type": "code",
   "execution_count": null,
   "id": "2e1a9e13",
   "metadata": {},
   "outputs": [],
   "source": [
    "df.toPandas()"
   ]
  },
  {
   "cell_type": "code",
   "execution_count": null,
   "id": "907d5739",
   "metadata": {},
   "outputs": [],
   "source": [
    "# convert data types\n",
    "df = (\n",
    "    df\n",
    "    .withColumn(\"COLUMN_A\", func.col(\"COLUMN_A\").cast(\"float\"))\n",
    "    .withColumn(\"COLUMN_C\", func.to_date(func.col(\"COLUMN_C\"), format=\"yyyy-MM-dd\"))\n",
    ")"
   ]
  },
  {
   "cell_type": "markdown",
   "id": "37116bbd",
   "metadata": {},
   "source": [
    "# Write to database"
   ]
  },
  {
   "cell_type": "code",
   "execution_count": null,
   "id": "41bfdbbf",
   "metadata": {},
   "outputs": [],
   "source": [
    "db_url = f\"jdbc:postgresql://{conf.sql_connection.server}:{conf.sql_connection.port}/{conf.sql_connection.db_name}\""
   ]
  },
  {
   "cell_type": "code",
   "execution_count": null,
   "id": "2d7643ca",
   "metadata": {},
   "outputs": [],
   "source": [
    "(\n",
    "    df.write.format(\"jdbc\")\n",
    "    .option(\"url\", db_url)\n",
    "    .option(\"driver\", \"org.postgresql.Driver\")\n",
    "    .option(\"dbtable\", \"POSTGRES_TABLE\")\n",
    "    .option(\"user\", conf.sql_login.username)\n",
    "    .option(\"password\", conf.sql_login.password.get_secret_value())\n",
    "    .mode(\"overwrite\")\n",
    "    .save()\n",
    ")"
   ]
  },
  {
   "cell_type": "markdown",
   "id": "799a79d6",
   "metadata": {},
   "source": [
    "# Read from database"
   ]
  },
  {
   "cell_type": "code",
   "execution_count": null,
   "id": "9f075d81",
   "metadata": {},
   "outputs": [],
   "source": [
    "loaded_df = (\n",
    "    spark.read.format(\"jdbc\")\n",
    "    .option(\"url\", db_url)\n",
    "    .option(\"driver\", \"org.postgresql.Driver\")\n",
    "    .option(\"dbtable\", \"POSTGRES_TABLE\")\n",
    "    .option(\"user\", conf.sql_login.username)\n",
    "    .option(\"password\", conf.sql_login.password.get_secret_value())\n",
    "    .load()\n",
    ")"
   ]
  },
  {
   "cell_type": "code",
   "execution_count": null,
   "id": "4656d542",
   "metadata": {},
   "outputs": [],
   "source": [
    "loaded_df.toPandas()"
   ]
  }
 ],
 "metadata": {
  "kernelspec": {
   "display_name": "Python 3 (ipykernel)",
   "language": "python",
   "name": "python3"
  },
  "language_info": {
   "codemirror_mode": {
    "name": "ipython",
    "version": 3
   },
   "file_extension": ".py",
   "mimetype": "text/x-python",
   "name": "python",
   "nbconvert_exporter": "python",
   "pygments_lexer": "ipython3",
   "version": "3.9.12"
  },
  "toc": {
   "base_numbering": 1,
   "nav_menu": {},
   "number_sections": true,
   "sideBar": true,
   "skip_h1_title": false,
   "title_cell": "Table of Contents",
   "title_sidebar": "Contents",
   "toc_cell": false,
   "toc_position": {},
   "toc_section_display": true,
   "toc_window_display": false
  },
  "varInspector": {
   "cols": {
    "lenName": 16,
    "lenType": 16,
    "lenVar": 40
   },
   "kernels_config": {
    "python": {
     "delete_cmd_postfix": "",
     "delete_cmd_prefix": "del ",
     "library": "var_list.py",
     "varRefreshCmd": "print(var_dic_list())"
    },
    "r": {
     "delete_cmd_postfix": ") ",
     "delete_cmd_prefix": "rm(",
     "library": "var_list.r",
     "varRefreshCmd": "cat(var_dic_list()) "
    }
   },
   "types_to_exclude": [
    "module",
    "function",
    "builtin_function_or_method",
    "instance",
    "_Feature"
   ],
   "window_display": false
  }
 },
 "nbformat": 4,
 "nbformat_minor": 5
}
